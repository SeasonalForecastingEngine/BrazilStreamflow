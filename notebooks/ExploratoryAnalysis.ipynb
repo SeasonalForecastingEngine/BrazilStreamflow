{
 "cells": [
  {
   "cell_type": "code",
   "execution_count": 1,
   "metadata": {},
   "outputs": [],
   "source": [
    "import numpy as np\n",
    "import pandas as pd\n",
    "import xarray as xr\n",
    "\n",
    "import matplotlib.pyplot as plt\n",
    "\n",
    "import cartopy.crs as ccrs\n",
    "import cartopy.feature as cfeature\n",
    "\n",
    "from cartopy.mpl.ticker import LongitudeFormatter, LatitudeFormatter\n",
    "from mpl_toolkits.axes_grid1 import make_axes_locatable"
   ]
  },
  {
   "cell_type": "code",
   "execution_count": 2,
   "metadata": {},
   "outputs": [],
   "source": [
    "data_path = '/home/michael/nr/project/stat/ClimateFutures/RenewableEnergy/Statkraft_Brasil/Data/'\n",
    "torch_path = '/home/michael/nr/project/stat/ClimateFutures/RenewableEnergy/Statkraft_Brasil/Michael_pytorch/'"
   ]
  },
  {
   "cell_type": "markdown",
   "metadata": {},
   "source": [
    "Load csv files with inflow, precipitation, and temperature data aggregated to months and catchments"
   ]
  },
  {
   "cell_type": "code",
   "execution_count": 3,
   "metadata": {},
   "outputs": [],
   "source": [
    "df_era5 = pd.read_csv(data_path+'Clean/era5_all.csv', encoding ='ISO-8859-1')\n",
    "df_chirps = pd.read_csv(data_path+'Clean/Precipitation_CHIRPS_update.csv', encoding ='ISO-8859-1', index_col=0)\n",
    "df_inflow = pd.read_csv(data_path+'Clean/inflow.csv', encoding ='ISO-8859-1')"
   ]
  },
  {
   "cell_type": "code",
   "execution_count": 11,
   "metadata": {},
   "outputs": [],
   "source": [
    "catchment_names = np.intersect1d(np.intersect1d(np.unique(df_era5['catchid']), [f'catch{id}' for id in df_chirps.index]), np.unique(df_inflow['catchid']))\n",
    "nbs = len(catchment_names)\n",
    "\n",
    "months = [*range(1,13)]\n",
    "years = [*range(1981,2021)]\n",
    "nyrs = len(years)"
   ]
  },
  {
   "cell_type": "code",
   "execution_count": 10,
   "metadata": {},
   "outputs": [],
   "source": [
    "df_catchment_info = pd.read_csv(data_path+'Clean/catchinfo.csv', encoding ='ISO-8859-1', index_col='catchid').reindex(catchment_names)"
   ]
  },
  {
   "cell_type": "markdown",
   "metadata": {},
   "source": [
    "Reformat data and calculate lagged precipitation and temperature variables"
   ]
  },
  {
   "cell_type": "code",
   "execution_count": 20,
   "metadata": {},
   "outputs": [],
   "source": [
    "inflow = np.full((nbs,12,nyrs), np.nan, dtype=float)\n",
    "temp_lagged = np.full((nbs,12,nyrs,6), np.nan, dtype=float)\n",
    "precip_lagged = np.full((nbs,12,nyrs,6), np.nan, dtype=float)\n",
    "\n",
    "for ibs in range(nbs):\n",
    "    id_catchment = catchment_names[ibs]\n",
    "    temp_catchment = df_era5.loc[(df_era5['catchid']==id_catchment),['year','month','temp']].rename(columns={'temp':'temp_lg0'})\n",
    "    prcp_catchment = df_chirps.loc[int(id_catchment[5:])].to_frame().rename(columns={int(id_catchment[5:]):'precip_lg0'})\n",
    "    prcp_catchment.index = pd.date_range('1981-01-01', periods=len(prcp_catchment), freq='MS')\n",
    "    prcp_catchment.insert(0, 'month', prcp_catchment.index.month)\n",
    "    prcp_catchment.insert(1, 'year', prcp_catchment.index.year)\n",
    "    for lg in range(1,6):\n",
    "        temp_catchment.insert(3, f'temp_lg{lg}', temp_catchment['temp_lg0'].shift(lg))\n",
    "        prcp_catchment.insert(3, f'precip_lg{lg}', prcp_catchment['precip_lg0'].shift(lg))\n",
    "    for imt in range(12):\n",
    "        month = months[imt]\n",
    "        inflow[ibs,imt,:] = df_inflow.loc[(df_inflow['catchid']==id_catchment) & (df_inflow['month']==month)].set_index('year').loc[years,'inflow']\n",
    "        if np.unique(inflow[ibs,imt,:]).size < 10:\n",
    "            inflow[ibs,imt,:] = np.nan                 # discard catchment-month combinations with too many identical inflow values (this is suspicious)\n",
    "            continue        \n",
    "        for lg in range(6):\n",
    "            temp_lagged[ibs,imt,:,lg] = temp_catchment.loc[temp_catchment['month']==int(month)].set_index('year').loc[years,f'temp_lg{lg}']\n",
    "            precip_lagged[ibs,imt,:,lg] = prcp_catchment.loc[prcp_catchment['month']==int(month)].set_index('year').loc[years,f'precip_lg{lg}']\n"
   ]
  },
  {
   "cell_type": "markdown",
   "metadata": {},
   "source": [
    "Standardize variables and calculate correlations"
   ]
  },
  {
   "cell_type": "code",
   "execution_count": null,
   "metadata": {},
   "outputs": [],
   "source": [
    "inflow_mean = np.mean(inflow, axis=2)\n",
    "inflow_std = np.std(inflow, axis=2)\n",
    "y = (inflow-inflow_mean[:,:,None]) / inflow_std[:,:,None]\n",
    "\n",
    "temp_lagged_mean = np.nanmean(temp_lagged, axis=2)\n",
    "temp_lagged_std = np.nanstd(temp_lagged, axis=2)\n",
    "X1 = np.nan_to_num((temp_lagged - temp_lagged_mean[:,:,None,:]) / temp_lagged_std[:,:,None,:], 0.0)\n",
    "\n",
    "precip_lagged_mean = np.nanmean(precip_lagged, axis=2)\n",
    "precip_lagged_std = np.nanstd(precip_lagged, axis=2)\n",
    "X2 = np.nan_to_num((precip_lagged - precip_lagged_mean[:,:,None,:]) / precip_lagged_std[:,:,None,:], 0.0)\n",
    "\n",
    "corr_coef_temp = np.mean(y[:,:,:,None]*X1, axis=2)\n",
    "corr_coef_precip = np.mean(y[:,:,:,None]*X2, axis=2)\n"
   ]
  },
  {
   "cell_type": "markdown",
   "metadata": {},
   "source": [
    "Depict correlation coefficients of precipitation and streamflow in a map  for different months"
   ]
  },
  {
   "cell_type": "code",
   "execution_count": null,
   "metadata": {},
   "outputs": [],
   "source": [
    "lon_bounds = [-70., -34.]   # Brazil\n",
    "lat_bounds = [-31.,  3.]    # Brazil\n",
    "\n",
    "month_name = ['January','February','March','April','May','June','July','August','September','October','November','December']\n",
    "\n",
    "fig, axs = plt.subplots(nrows=4, ncols=6, subplot_kw={'projection': ccrs.PlateCarree()}, figsize=(18,12.5))\n",
    "for im in [0,3,6,9]:\n",
    "    for ilg in range(6):\n",
    "        axs[im//3,ilg].set_extent(lon_bounds+lat_bounds, crs=ccrs.PlateCarree())\n",
    "        axs[im//3,ilg].add_feature(cfeature.LAND, color=\"lightgrey\", alpha=0.75)\n",
    "        axs[im//3,ilg].add_feature(cfeature.COASTLINE)\n",
    "        axs[im//3,ilg].add_feature(cfeature.BORDERS, linestyle='-', alpha=.5)\n",
    "        axs[im//3,ilg].add_feature(cfeature.LAKES, alpha=0.95)\n",
    "        axs[im//3,ilg].add_feature(cfeature.RIVERS)\n",
    "        axs[im//3,ilg].set_title(f'{month_name[im][:3]} streamflow - {month_name[(im-ilg)%12][:3]} precip.', fontsize=14)\n",
    "        cmap, vmin, vmax = 'BrBG', -1.0, 1.0  # 'PuOr'\n",
    "        cscatter = axs[im//3,ilg].scatter(x=df_catchment_info['Lon'], y=df_catchment_info['Lat'], c=corr_coef_precip[:,im,ilg], cmap=cmap, s=10, transform=ccrs.PlateCarree(), vmin=vmin, vmax=vmax)\n",
    "\n",
    "fig.subplots_adjust(bottom=0.07, top=0.98, left=0.01, right=0.99, wspace=0.01, hspace=0.11)\n",
    "cbar_ax = fig.add_axes([0.2, 0.025, 0.6, 0.025])\n",
    "cbar = plt.colorbar(cscatter, cax=cbar_ax, orientation='horizontal', extend='both')\n",
    "ticklabs = cbar.ax.get_xticklabels()\n",
    "cbar.ax.set_xticklabels(ticklabs, fontsize=14)"
   ]
  },
  {
   "cell_type": "markdown",
   "metadata": {},
   "source": [
    "Same for temperature and streamflow"
   ]
  },
  {
   "cell_type": "code",
   "execution_count": null,
   "metadata": {},
   "outputs": [],
   "source": [
    "fig, axs = plt.subplots(nrows=4, ncols=6, subplot_kw={'projection': ccrs.PlateCarree()}, figsize=(18,12.5))\n",
    "for im in [0,3,6,9]:\n",
    "    for ilg in range(6):\n",
    "        axs[im//3,ilg].set_extent(lon_bounds+lat_bounds, crs=ccrs.PlateCarree())\n",
    "        axs[im//3,ilg].add_feature(cfeature.LAND, color=\"lightgrey\", alpha=0.75)\n",
    "        axs[im//3,ilg].add_feature(cfeature.COASTLINE)\n",
    "        axs[im//3,ilg].add_feature(cfeature.BORDERS, linestyle='-', alpha=.5)\n",
    "        axs[im//3,ilg].add_feature(cfeature.LAKES, alpha=0.95)\n",
    "        axs[im//3,ilg].add_feature(cfeature.RIVERS)\n",
    "        axs[im//3,ilg].set_title(f'{month_name[im][:3]} streamflow - {month_name[(im-ilg)%12][:3]} temp.', fontsize=14)\n",
    "        cmap, vmin, vmax = 'BrBG', -1.0, 1.0  # 'PuOr'\n",
    "        cscatter = axs[im//3,ilg].scatter(x=df_catchment_info['Lon'], y=df_catchment_info['Lat'], c=corr_coef_temp[:,im,ilg], cmap=cmap, s=10, transform=ccrs.PlateCarree(), vmin=vmin, vmax=vmax)\n",
    "\n",
    "fig.subplots_adjust(bottom=0.07, top=0.98, left=0.01, right=0.99, wspace=0.01, hspace=0.11)\n",
    "cbar_ax = fig.add_axes([0.2, 0.025, 0.6, 0.025])\n",
    "cbar = plt.colorbar(cscatter, cax=cbar_ax, orientation='horizontal', extend='both')\n",
    "ticklabs = cbar.ax.get_xticklabels()\n",
    "cbar.ax.set_xticklabels(ticklabs, fontsize=14)"
   ]
  }
 ],
 "metadata": {
  "kernelspec": {
   "display_name": "brazil_streamflow_env",
   "language": "python",
   "name": "python3"
  },
  "language_info": {
   "codemirror_mode": {
    "name": "ipython",
    "version": 3
   },
   "file_extension": ".py",
   "mimetype": "text/x-python",
   "name": "python",
   "nbconvert_exporter": "python",
   "pygments_lexer": "ipython3",
   "version": "3.12.7"
  }
 },
 "nbformat": 4,
 "nbformat_minor": 2
}
